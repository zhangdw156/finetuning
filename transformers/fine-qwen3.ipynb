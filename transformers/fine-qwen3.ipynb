{
 "cells": [
  {
   "cell_type": "markdown",
   "id": "4cea520a-9dbe-4157-a8d7-bae0b27d0ac8",
   "metadata": {},
   "source": [
    "## 下载数据集"
   ]
  },
  {
   "cell_type": "code",
   "execution_count": 1,
   "id": "cd0377ba-8e35-4df0-8acd-8a99c6410a9e",
   "metadata": {
    "scrolled": true
   },
   "outputs": [
    {
     "name": "stderr",
     "output_type": "stream",
     "text": [
      "/home/fine/uv/transformers/lib/python3.11/site-packages/tqdm/auto.py:21: TqdmWarning: IProgress not found. Please update jupyter and ipywidgets. See https://ipywidgets.readthedocs.io/en/stable/user_install.html\n",
      "  from .autonotebook import tqdm as notebook_tqdm\n"
     ]
    },
    {
     "name": "stdout",
     "output_type": "stream",
     "text": [
      "The dataset has been split successfully.\n",
      "Train Set Size：2166\n",
      "Val Set Size：241\n"
     ]
    }
   ],
   "source": [
    "from modelscope.msdatasets import MsDataset\n",
    "import json\n",
    "import random\n",
    "\n",
    "random.seed(42)\n",
    "\n",
    "ds = MsDataset.load('krisfu/delicate_medical_r1_data', subset_name='default', split='train')\n",
    "data_list = list(ds)\n",
    "random.shuffle(data_list)\n",
    "\n",
    "split_idx = int(len(data_list) * 0.9)\n",
    "\n",
    "train_data = data_list[:split_idx]\n",
    "val_data = data_list[split_idx:]\n",
    "\n",
    "with open('../dataset/delicate_medical_r1/train.jsonl', 'w', encoding='utf-8') as f:\n",
    "    for item in train_data:\n",
    "        json.dump(item, f, ensure_ascii=False)\n",
    "        f.write('\\n')\n",
    "\n",
    "with open('../dataset/delicate_medical_r1/val.jsonl', 'w', encoding='utf-8') as f:\n",
    "    for item in val_data:\n",
    "        json.dump(item, f, ensure_ascii=False)\n",
    "        f.write('\\n')\n",
    "\n",
    "print(f\"The dataset has been split successfully.\")\n",
    "print(f\"Train Set Size：{len(train_data)}\")\n",
    "print(f\"Val Set Size：{len(val_data)}\")"
   ]
  },
  {
   "cell_type": "markdown",
   "id": "2f93dc6d-4590-4057-8ea6-8b27ed53ee60",
   "metadata": {},
   "source": [
    "## 加载模型和分词器"
   ]
  },
  {
   "cell_type": "code",
   "execution_count": 1,
   "id": "f08667c9-4d03-4c11-8bcf-63bd6a427a18",
   "metadata": {},
   "outputs": [
    {
     "name": "stderr",
     "output_type": "stream",
     "text": [
      "/home/fine/uv/transformers/lib/python3.11/site-packages/tqdm/auto.py:21: TqdmWarning: IProgress not found. Please update jupyter and ipywidgets. See https://ipywidgets.readthedocs.io/en/stable/user_install.html\n",
      "  from .autonotebook import tqdm as notebook_tqdm\n"
     ]
    }
   ],
   "source": [
    "from transformers import AutoTokenizer,AutoModelForCausalLM"
   ]
  },
  {
   "cell_type": "code",
   "execution_count": 2,
   "id": "249d8d2c-d1ae-4689-8620-121bdd482105",
   "metadata": {},
   "outputs": [],
   "source": [
    "model_path = \"/data/download-model/Qwen3-0.6B\""
   ]
  },
  {
   "cell_type": "code",
   "execution_count": 3,
   "id": "96a1d0ec-99e0-42cd-8a9f-b40fede9e0d2",
   "metadata": {},
   "outputs": [],
   "source": [
    "# Transformers加载模型权重\n",
    "tokenizer = AutoTokenizer.from_pretrained(model_path)\n",
    "model = AutoModelForCausalLM.from_pretrained(model_path,use_cache=False)"
   ]
  },
  {
   "cell_type": "markdown",
   "id": "5ae3db2c-ce4d-43ae-b499-8002fe5a4fbb",
   "metadata": {
    "scrolled": true
   },
   "source": [
    "## 调整数据的格式用于训练"
   ]
  },
  {
   "cell_type": "code",
   "execution_count": 4,
   "id": "d993745f-7ea7-4561-b907-86ec4fe49510",
   "metadata": {},
   "outputs": [],
   "source": [
    "import os\n",
    "datset_path='../dataset/delicate_medical_r1/'\n",
    "train_dataset_path = os.path.join(datset_path,\"train.jsonl\")\n",
    "test_dataset_path = os.path.join(datset_path,\"val.jsonl\")"
   ]
  },
  {
   "cell_type": "code",
   "execution_count": 5,
   "id": "b80d6212-82db-4c75-9df5-df758d81c1ce",
   "metadata": {},
   "outputs": [],
   "source": [
    "from datasets import load_dataset"
   ]
  },
  {
   "cell_type": "code",
   "execution_count": 6,
   "id": "0fc41d6f-9466-438c-9ce4-e47ddfccc3e6",
   "metadata": {},
   "outputs": [],
   "source": [
    "dataset=load_dataset('json',data_files={\n",
    "    'train':train_dataset_path,\n",
    "    'validation':test_dataset_path\n",
    "})"
   ]
  },
  {
   "cell_type": "code",
   "execution_count": 7,
   "id": "a17c6cdc-e0be-4032-afd9-041b2696d9d3",
   "metadata": {},
   "outputs": [],
   "source": [
    "def process_func(example):\n",
    "    \"\"\"\n",
    "    将数据集进行预处理\n",
    "    \"\"\" \n",
    "    input_ids, attention_mask, labels = [], [], []\n",
    "    instruction = tokenizer(\n",
    "        f\"<|im_start|>system\\n{PROMPT}<|im_end|>\\n<|im_start|>user\\n{example['question']}<|im_end|>\\n<|im_start|>assistant\\n\",\n",
    "        add_special_tokens=False\n",
    "    )\n",
    "    ## tokenizer.pad_token_id='<|endoftext|>'\n",
    "    response = tokenizer(\n",
    "        f\"<think>{example['think']}</think>\\n{example['answer']}\", \n",
    "        add_special_tokens=False\n",
    "    )\n",
    "    input_ids = instruction[\"input_ids\"] + response[\"input_ids\"] + [tokenizer.pad_token_id]\n",
    "    attention_mask = (\n",
    "        instruction[\"attention_mask\"] + response[\"attention_mask\"] + [1]\n",
    "    )\n",
    "    labels = [-100] * len(instruction[\"input_ids\"]) + response[\"input_ids\"] + [tokenizer.pad_token_id]\n",
    "    ## 转成tensor\n",
    "    # labels=torch.tensor(labels).to(\"cuda:0\")\n",
    "    # input_ids=torch.tensor(input_ids).to(\"cuda:0\")\n",
    "    if len(input_ids) > MAX_LENGTH:  # 做一个截断\n",
    "        input_ids = input_ids[:MAX_LENGTH]\n",
    "        attention_mask = attention_mask[:MAX_LENGTH]\n",
    "        labels = labels[:MAX_LENGTH]\n",
    "    return {\"input_ids\": input_ids, \"attention_mask\": attention_mask, \"labels\": labels}   \n"
   ]
  },
  {
   "cell_type": "code",
   "execution_count": 8,
   "id": "dc2c105f-98e0-435c-8268-b39d1e59ad69",
   "metadata": {},
   "outputs": [],
   "source": [
    "PROMPT = \"你是一个医学专家，你需要根据用户的问题，给出带有思考的回答。\"\n",
    "MAX_LENGTH = 2048"
   ]
  },
  {
   "cell_type": "code",
   "execution_count": 9,
   "id": "4c5c7432-6d51-4fd7-9212-805ab9b80d93",
   "metadata": {
    "scrolled": true
   },
   "outputs": [
    {
     "name": "stderr",
     "output_type": "stream",
     "text": [
      "Map: 100%|██████████| 2166/2166 [00:03<00:00, 650.82 examples/s]\n",
      "Map: 100%|██████████| 241/241 [00:00<00:00, 678.84 examples/s]\n"
     ]
    }
   ],
   "source": [
    "dataset=dataset.map(process_func)"
   ]
  },
  {
   "cell_type": "markdown",
   "id": "884d2037-fc96-4d5d-8646-35670498d4f1",
   "metadata": {},
   "source": [
    "## 准备lora"
   ]
  },
  {
   "cell_type": "code",
   "execution_count": 11,
   "id": "5cdb1f8a-45e8-46a9-94ee-4e4b0fbbbcf1",
   "metadata": {},
   "outputs": [],
   "source": [
    "from peft import LoraConfig, TaskType, get_peft_model"
   ]
  },
  {
   "cell_type": "code",
   "execution_count": 12,
   "id": "18dc29e1-cad7-408f-960d-06d19eb4fa9e",
   "metadata": {},
   "outputs": [],
   "source": [
    "# 配置lora\n",
    "config = LoraConfig(\n",
    "    task_type=TaskType.CAUSAL_LM,\n",
    "    target_modules=[\"q_proj\", \"k_proj\", \"v_proj\", \"o_proj\", \"gate_proj\", \"up_proj\", \"down_proj\"],\n",
    "    inference_mode=False,  # 训练模式\n",
    "    r=8,  # Lora 秩\n",
    "    lora_alpha=32,  # Lora alaph，具体作用参见 Lora 原理\n",
    "    lora_dropout=0.1,  # Dropout 比例\n",
    ")\n",
    "\n",
    "model = get_peft_model(model, config)"
   ]
  },
  {
   "cell_type": "markdown",
   "id": "4ec2207d-de44-47d7-a473-fa5970fdca03",
   "metadata": {},
   "source": [
    "## 准备swanlab"
   ]
  },
  {
   "cell_type": "code",
   "execution_count": 10,
   "id": "1717a98c-4170-429d-bd1a-2dd326c09716",
   "metadata": {},
   "outputs": [],
   "source": [
    "import swanlab"
   ]
  },
  {
   "cell_type": "code",
   "execution_count": 11,
   "id": "cf642c60-c1fd-4f49-b6fd-a96607601186",
   "metadata": {},
   "outputs": [],
   "source": [
    "swanlab.config.update({\n",
    "    \"model\": \"Qwen3-0.6B\",\n",
    "    \"prompt\": PROMPT,\n",
    "    \"data_max_length\": MAX_LENGTH,\n",
    "    })"
   ]
  },
  {
   "cell_type": "markdown",
   "id": "a2715059-4af3-4529-86b8-34219e5bc168",
   "metadata": {},
   "source": [
    "## 准备训练"
   ]
  },
  {
   "cell_type": "code",
   "execution_count": 12,
   "id": "b493a897-2a72-41b0-a487-90e5c0fb9c05",
   "metadata": {},
   "outputs": [],
   "source": [
    "from transformers import TrainingArguments,Trainer,DataCollatorForSeq2Seq\n",
    "import torch"
   ]
  },
  {
   "cell_type": "code",
   "execution_count": 13,
   "id": "50f73092-0a6e-4d0b-ac6b-57f0e8761a6b",
   "metadata": {
    "scrolled": true
   },
   "outputs": [],
   "source": [
    "args = TrainingArguments(\n",
    "    output_dir=\"../output/Qwen3-0.6B\",\n",
    "    per_device_train_batch_size=1,\n",
    "    per_device_eval_batch_size=1,\n",
    "    gradient_accumulation_steps=4,\n",
    "    eval_strategy=\"steps\",\n",
    "    eval_steps=100,\n",
    "    logging_steps=10,\n",
    "    num_train_epochs=2,\n",
    "    save_steps=400,\n",
    "    learning_rate=1e-4,\n",
    "    save_on_each_node=True,\n",
    "    gradient_checkpointing=True,\n",
    "    report_to=\"swanlab\",\n",
    "    run_name=\"qwen3-0.6B\",\n",
    ")\n",
    "\n",
    "trainer = Trainer(\n",
    "    model=model,\n",
    "    args=args,\n",
    "    train_dataset=dataset['train'],\n",
    "    eval_dataset=dataset['validation'],\n",
    "    data_collator=DataCollatorForSeq2Seq(tokenizer=tokenizer, padding=True),\n",
    ")"
   ]
  },
  {
   "cell_type": "markdown",
   "id": "031eba52-ff84-496a-a678-7f370208d9d8",
   "metadata": {},
   "source": [
    "## 开始训练"
   ]
  },
  {
   "cell_type": "code",
   "execution_count": 14,
   "id": "9010b83c-ef7e-46b3-9f59-33af744cfd9a",
   "metadata": {
    "scrolled": true
   },
   "outputs": [
    {
     "name": "stdout",
     "output_type": "stream",
     "text": [
      "\u001b[1m\u001b[34mswanlab\u001b[0m\u001b[0m: Tracking run with swanlab version 0.6.4                                   \n",
      "\u001b[1m\u001b[34mswanlab\u001b[0m\u001b[0m: Run data will be saved locally in \u001b[35m\u001b[1m/home/adminad/zhangdw/workspace/finetuning/transformers/swanlog/run-20250628_164547-a3b1799d\u001b[0m\u001b[0m\n",
      "\u001b[1m\u001b[34mswanlab\u001b[0m\u001b[0m: 👋 Hi \u001b[1m\u001b[39mzhangdw156\u001b[0m\u001b[0m, welcome to swanlab!\n",
      "\u001b[1m\u001b[34mswanlab\u001b[0m\u001b[0m: Syncing run \u001b[33mqwen3-0.6B\u001b[0m to the cloud\n",
      "\u001b[1m\u001b[34mswanlab\u001b[0m\u001b[0m: 🏠 View project at \u001b[34m\u001b[4mhttps://swanlab.cn/@zhangdw156/transformers\u001b[0m\u001b[0m\n",
      "\u001b[1m\u001b[34mswanlab\u001b[0m\u001b[0m: 🚀 View run at \u001b[34m\u001b[4mhttps://swanlab.cn/@zhangdw156/transformers/runs/lyic3titezexqrdlvanps\u001b[0m\u001b[0m\n"
     ]
    },
    {
     "data": {
      "text/html": [
       "\n",
       "<!DOCTYPE html>\n",
       "<html lang=\"en\">\n",
       "<head>\n",
       "    <meta charset=\"UTF-8\">\n",
       "    <meta name=\"viewport\" content=\"width=device-width, initial-scale=1.0\">\n",
       "    <title>Show Iframe</title>\n",
       "    \n",
       "        <script>\n",
       "            function showIframe() {\n",
       "                var iframeHtml = '<iframe src=\"https://swanlab.cn/@zhangdw156/transformers/runs/lyic3titezexqrdlvanps\" width=100% height=\"600\" frameborder=\"no\"></iframe>';\n",
       "                document.getElementById('iframeContainer').innerHTML = iframeHtml;\n",
       "            }\n",
       "        </script>\n",
       "        \n",
       "</head>\n",
       "<body>\n",
       "    <style>\n",
       "        .interactive-button {\n",
       "            display: flex;\n",
       "            align-items: center;\n",
       "            height: 36px;\n",
       "            border: 0px;\n",
       "            background-color: #2c8f63;\n",
       "            color: white;\n",
       "            padding: 10px 20px;\n",
       "            transition: background-color 0.3s, transform 0.2s;\n",
       "        }\n",
       "\n",
       "        .interactive-button:hover {\n",
       "            background-color: #5cab87;\n",
       "            cursor: pointer;\n",
       "        }\n",
       "\n",
       "        .interactive-button:active { background-color: #217952; transform: scale(0.96); } </style> <br> <button \n",
       "        onclick=\"showIframe()\" class=\"interactive-button\"> <svg style=\"height: 16px; margin-right: 8px;\" viewBox=\"0 0 \n",
       "        46 46\" fill=\"none\"> <path d=\"M10.8439 21.1974C10.6414 21.2854 10.4477 21.3925 10.2655 21.5173L10.2069 \n",
       "        21.5652C10.1839 21.58 10.1625 21.5969 10.1429 21.6159C6.29135 24.6118 4.22831 29.4416 5.32646 34.282C5.94656 \n",
       "        37.0577 7.50461 39.5348 9.73801 41.2958C11.9714 43.0568 14.7436 43.994 17.5874 43.9495H18.0219C19.8864 \n",
       "        43.8697 21.7087 43.3694 23.3526 42.486C24.9964 41.6026 26.4193 40.3589 27.5147 38.848C28.61 37.3371 29.3496 \n",
       "        35.598 29.678 33.761C30.0065 31.9239 29.9153 30.0363 29.4112 28.2395C28.9181 26.4723 27.8919 24.8437 26.9937 \n",
       "        23.2551C25.4158 20.4653 23.8343 17.6764 22.2492 14.8884C21.7801 14.0647 21.3057 13.2465 20.8419 \n",
       "        12.4228C20.2315 11.3353 19.2746 10.1519 19.224 8.86183C19.1733 7.57176 20.2235 6.32701 21.5082 \n",
       "        6.07912C23.9284 5.61801 25.0639 8.24078 25.0693 8.23812C25.363 8.94035 25.9123 9.50489 26.6063 \n",
       "        9.81764C27.3002 10.1304 28.087 10.168 28.8077 9.92298C29.5283 9.67791 30.1291 9.1684 30.4885 8.49743C30.8479 \n",
       "        7.82646 30.9392 7.04405 30.7439 6.30835C30.1514 4.37314 28.9133 2.69953 27.2363 1.56656C25.7615 0.511704 \n",
       "        23.9847 -0.0372109 22.1719 0.00195984C20.9049 0.00893199 19.6532 0.27989 18.4967 0.797557C17.3402 1.31522 \n",
       "        16.3043 2.06823 15.4551 3.00856C14.49 4.08707 13.7984 5.38193 13.4389 6.78385C13.0794 8.18576 13.0624 9.6536 \n",
       "        13.3894 11.0635C13.52 11.593 13.6984 12.1095 13.9225 12.6067C14.5595 14.0514 15.4951 15.3681 16.284 \n",
       "        16.7355C17.2525 18.4147 18.2209 20.0948 19.1893 21.7758C20.1578 23.4568 21.1351 25.1449 22.1213 \n",
       "        26.8401C22.9209 28.2421 23.7925 29.4682 23.8805 31.1528C23.9175 32.0513 23.7682 32.9479 23.4419 \n",
       "        33.7859C23.1156 34.6239 22.6194 35.3854 21.9845 36.0223C21.3496 36.6592 20.5897 37.1578 19.7527 \n",
       "        37.4868C18.9157 37.8157 18.0196 37.9678 17.121 37.9336C14.0024 37.7923 11.6488 35.4814 11.1744 32.4588C10.58 \n",
       "        28.6419 13.552 26.5469 13.552 26.5469C14.1782 26.1785 14.6497 25.5955 14.8791 24.906C15.1084 24.2166 15.0801 \n",
       "        23.4673 14.7993 22.7971C14.5186 22.127 14.0044 21.5813 13.3521 21.2611C12.6998 20.941 11.9536 20.8682 11.2517 \n",
       "        21.0561C11.1174 21.0939 10.9856 21.1402 10.8572 21.1947\" fill=\"white\" /> <path d=\"M42.8101 31.5968C42.8109 \n",
       "        30.5198 42.7218 29.4445 42.5435 28.3823C42.2663 26.7069 41.7464 25.0808 41.0002 23.5552C40.5524 22.6463 \n",
       "        39.9874 21.7374 39.1024 21.2417C38.6593 20.9919 38.1589 20.8617 37.6502 20.8639C37.1416 20.8661 36.6423 \n",
       "        21.0006 36.2013 21.2541C35.7604 21.5077 35.393 21.8716 35.1352 22.3101C34.8775 22.7485 34.7382 23.2466 \n",
       "        34.7312 23.7552C34.7072 24.8773 35.3149 25.8875 35.768 26.9217C36.5212 28.6453 36.8623 30.5208 36.7642 \n",
       "        32.3993C36.6661 34.2777 36.1315 36.1075 35.2029 37.7433C35.146 37.8404 35.0952 37.941 35.051 38.0445C34.8623 \n",
       "        38.4842 34.7635 38.9573 34.7605 39.4358C34.7802 40.1222 35.0356 40.7808 35.4835 41.3011C35.9315 41.8214 \n",
       "        36.5449 42.1717 37.2207 42.2932C38.8759 42.589 40.1899 41.347 40.8856 39.9609C42.1643 37.3589 42.823 34.4961 \n",
       "        42.8101 31.5968Z\" fill=\"white\" /> <path d=\"M28.2309 11.8938C28.1761 11.9043 28.1218 11.9176 28.0683 \n",
       "        11.9338C27.9593 11.9642 27.8611 12.0249 27.7851 12.1088C27.7091 12.1928 27.6584 12.2965 27.6389 \n",
       "        12.408C27.6193 12.5195 27.6318 12.6343 27.6748 12.7391C27.7178 12.8438 27.7895 12.9343 27.8818 \n",
       "        12.9999C29.2375 14.0252 30.3809 15.3043 31.2482 16.7662C31.4838 17.1677 31.6888 17.5865 31.8612 \n",
       "        18.0189C32.0052 18.3921 32.1971 18.8799 32.6822 18.8532C33.0607 18.8346 33.2153 18.512 33.3192 \n",
       "        18.1895C33.8137 16.5125 33.9678 14.7534 33.7723 13.0159C33.6331 12.0693 33.4155 11.1359 33.122 \n",
       "        10.2252C33.0775 10.0047 32.9744 9.80029 32.8235 9.6335C32.7273 9.54627 32.6054 9.49262 32.4761 9.4806C32.3468 \n",
       "        9.46859 32.2171 9.49886 32.1065 9.56687C32.0016 9.65188 31.9115 9.75365 31.8399 9.86806C31.3956 10.4658 \n",
       "        30.825 10.9581 30.1687 11.3101C29.8377 11.4861 29.4893 11.6272 29.1292 11.7312C28.828 11.8192 28.5215 11.8325 \n",
       "        28.2309 11.8938Z\" fill=\"white\" /> </svg> Display SwanLab Board </button> <br> <div \n",
       "        id=\"iframeContainer\"></div> </body> </html>"
      ],
      "text/plain": [
       "<IPython.core.display.HTML object>"
      ]
     },
     "metadata": {},
     "output_type": "display_data"
    },
    {
     "data": {
      "text/html": [
       "\n",
       "    <div>\n",
       "      \n",
       "      <progress value='136' max='136' style='width:300px; height:20px; vertical-align: middle;'></progress>\n",
       "      [136/136 05:14, Epoch 2/2]\n",
       "    </div>\n",
       "    <table border=\"1\" class=\"dataframe\">\n",
       "  <thead>\n",
       " <tr style=\"text-align: left;\">\n",
       "      <th>Step</th>\n",
       "      <th>Training Loss</th>\n",
       "      <th>Validation Loss</th>\n",
       "    </tr>\n",
       "  </thead>\n",
       "  <tbody>\n",
       "    <tr>\n",
       "      <td>100</td>\n",
       "      <td>0.213800</td>\n",
       "      <td>1.731899</td>\n",
       "    </tr>\n",
       "  </tbody>\n",
       "</table><p>"
      ],
      "text/plain": [
       "<IPython.core.display.HTML object>"
      ]
     },
     "metadata": {},
     "output_type": "display_data"
    },
    {
     "name": "stderr",
     "output_type": "stream",
     "text": [
      "/home/fine/uv/transformers/lib/python3.11/site-packages/torch/nn/parallel/_functions.py:71: UserWarning: Was asked to gather along dimension 0, but all input tensors were scalars; will instead unsqueeze and return a vector.\n",
      "  warnings.warn(\n"
     ]
    },
    {
     "data": {
      "text/plain": [
       "TrainOutput(global_step=136, training_loss=0.2293119903872995, metrics={'train_runtime': 321.7503, 'train_samples_per_second': 13.464, 'train_steps_per_second': 0.423, 'total_flos': 1.2680557687209984e+16, 'train_loss': 0.2293119903872995, 'epoch': 2.0})"
      ]
     },
     "execution_count": 14,
     "metadata": {},
     "output_type": "execute_result"
    }
   ],
   "source": [
    "trainer.train()"
   ]
  },
  {
   "cell_type": "markdown",
   "id": "56bd5c80-31cb-4d27-832d-919f2ddb7611",
   "metadata": {},
   "source": [
    "## 验证结果"
   ]
  },
  {
   "cell_type": "code",
   "execution_count": 33,
   "id": "96808120-8e54-4534-a535-104c11fd95fa",
   "metadata": {
    "scrolled": true
   },
   "outputs": [
    {
     "data": {
      "text/plain": [
       "241"
      ]
     },
     "execution_count": 33,
     "metadata": {},
     "output_type": "execute_result"
    }
   ],
   "source": [
    "len(dataset['validation'])"
   ]
  },
  {
   "cell_type": "code",
   "execution_count": 19,
   "id": "2cd4f632-97a0-4e6c-9878-b9ca85154056",
   "metadata": {},
   "outputs": [],
   "source": [
    "test_text_list = []"
   ]
  },
  {
   "cell_type": "code",
   "execution_count": 21,
   "id": "4ac290db-5915-42a7-911d-669995c2e9ff",
   "metadata": {},
   "outputs": [],
   "source": [
    "messages=[\n",
    "    {\"role\": \"system\", \"content\": f\"{PROMPT}\"},\n",
    "    {\"role\": \"user\", \"content\": f\"{dataset['validation']['question'][0]}\"}\n",
    "]"
   ]
  },
  {
   "cell_type": "code",
   "execution_count": 22,
   "id": "1a37564c-75bb-409c-b74c-696a79b54894",
   "metadata": {},
   "outputs": [
    {
     "data": {
      "text/plain": [
       "[{'role': 'system', 'content': '你是一个医学专家，你需要根据用户的问题，给出带有思考的回答。'},\n",
       " {'role': 'user',\n",
       "  'content': '1895年德国物理学教授伦琴的发现对医学影像学的发展有何具体影响？请从技术进步、学科建立和临床应用三个方面进行分析。'}]"
      ]
     },
     "execution_count": 22,
     "metadata": {},
     "output_type": "execute_result"
    }
   ],
   "source": [
    "messages"
   ]
  },
  {
   "cell_type": "code",
   "execution_count": 23,
   "id": "fd67474f-88ab-43bf-80cc-58b2cb020b2c",
   "metadata": {},
   "outputs": [],
   "source": [
    "text=tokenizer.apply_chat_template(\n",
    "        messages,\n",
    "        tokenize=False,\n",
    "        add_generation_prompt=True\n",
    "    )"
   ]
  },
  {
   "cell_type": "code",
   "execution_count": 24,
   "id": "fbb12ee2-babc-4ae2-93ea-1f42dc1e0f1e",
   "metadata": {},
   "outputs": [
    {
     "data": {
      "text/plain": [
       "'<|im_start|>system\\n你是一个医学专家，你需要根据用户的问题，给出带有思考的回答。<|im_end|>\\n<|im_start|>user\\n1895年德国物理学教授伦琴的发现对医学影像学的发展有何具体影响？请从技术进步、学科建立和临床应用三个方面进行分析。<|im_end|>\\n<|im_start|>assistant\\n'"
      ]
     },
     "execution_count": 24,
     "metadata": {},
     "output_type": "execute_result"
    }
   ],
   "source": [
    "text"
   ]
  },
  {
   "cell_type": "code",
   "execution_count": 26,
   "id": "156c41a8-5e7d-4098-88cb-96846e899f12",
   "metadata": {},
   "outputs": [
    {
     "name": "stderr",
     "output_type": "stream",
     "text": [
      "The attention mask is not set and cannot be inferred from input because pad token is same as eos token. As a consequence, you may observe unexpected behavior. Please pass your input's `attention_mask` to obtain reliable results.\n",
      "`use_cache=True` is incompatible with gradient checkpointing. Setting `use_cache=False`.\n",
      "/home/fine/uv/transformers/lib/python3.11/site-packages/torch/utils/checkpoint.py:86: UserWarning: None of the inputs have requires_grad=True. Gradients will be None\n",
      "  warnings.warn(\n"
     ]
    }
   ],
   "source": [
    "model_inputs = tokenizer([text], return_tensors=\"pt\").to('cuda:0')\n",
    "\n",
    "generated_ids = model.generate(\n",
    "    model_inputs.input_ids,\n",
    "    max_new_tokens=MAX_LENGTH,\n",
    ")\n",
    "generated_ids = [\n",
    "    output_ids[len(input_ids):] for input_ids, output_ids in zip(model_inputs.input_ids, generated_ids)\n",
    "]\n",
    "\n",
    "response = tokenizer.batch_decode(generated_ids, skip_special_tokens=True)[0]\n"
   ]
  },
  {
   "cell_type": "code",
   "execution_count": 27,
   "id": "9726ec7d-11ba-49d4-b0b7-43dc220e1cdf",
   "metadata": {},
   "outputs": [
    {
     "data": {
      "text/plain": [
       "'<think>嗯，用户问的是1895年德国物理学家伦琴的发现对医学影像学的影响，分技术、学科和临床应用三个点。首先，我需要回忆一下伦琴的基本知识。记得他是一位年轻的科学家，可能对医学影像学不太熟悉，但后来因为他的研究而变得很有名。\\n\\n技术进步方面，我记得他可能改进了X光技术，比如X线的剂量控制，或者让X线更安全，这样医生能更放心使用。另外，他可能推动了影像学的临床应用，比如CT或MRI的前身。不过具体细节可能需要查证，比如是否提到X线的高分辨率或对比度提升，或者是否影响了诊断的准确性。比如，如果X线的对比度更好，可能让诊断更准确，减少误诊。\\n\\n接下来是学科建立。可能他推动了影像学的学科，比如影像学诊断学，或者建立了新的研究领域，比如神经影像学。比如，他可能研究神经影像学，或者影像学中的神经影像学，这可能属于神经影像学的前身。另外，可能影响了诊断学，比如影像学诊断学的形成，或者让影像学的诊断学更具体，比如影像学诊断学的各个门类，比如内镜学、CT学等。\\n\\n临床应用方面，可能他推动了影像学的应用，比如CT和MRI的前身。比如，早期的CT和MRI技术可能基于他的研究，或者后来的影像学技术更进一步。比如，现在使用的CT系统可能更精确，或者MRI的高分辨率MRI技术可能来自他的研究。此外，他可能促进了影像学的临床实践，比如让医生更放心使用X线，减少辐射暴露，从而改善诊断的安全性和准确性。\\n\\n需要确认这些点是否准确。比如，是否提到X线的剂量控制？或者是否影响了诊断的准确性？比如，如果X线的对比度更好，诊断更准确，减少误诊。另外，是否影响了诊断学的结构，比如影像学诊断学的形成，或者让影像学的诊断学更具体？\\n\\n可能还要考虑他的研究对医学影像学的推动作用，比如影像学诊断学的学科建设，或者影像学诊断学的各个门类，比如内镜学、CT学等，这些可能都是基于他的研究或进一步发展。\\n\\n总结下来，技术进步可能涉及X线的高分辨率和对比度，学科建立涉及神经影像学，临床应用涉及CT和MRI的前身，以及诊断学的形成。需要把这些点组织成连贯的思考过程，确保逻辑清晰，覆盖所有方面。\\n</think>\\n1895年，德国物理学家伦琴的发现对医学影像学的发展产生了重要影响。首先，他通过改进X线技术，使得X线能够更安全地用于临床诊断，减少了对患者辐射剂量的担忧，从而提高了诊断的准确性。其次，他推动了影像学诊断学的建立，为影像学的进一步发展奠定了基础。此外，他促进了影像学与临床医学的结合，使得影像学在诊断中得到了更广泛的应用，如CT和MRI等高级影像学技术的前身。这些影响使得影像学不仅在技术上更加精确，而且在临床应用上也更加广泛，为现代医学影像学的发展奠定了基础。'"
      ]
     },
     "execution_count": 27,
     "metadata": {},
     "output_type": "execute_result"
    }
   ],
   "source": [
    "response"
   ]
  },
  {
   "cell_type": "code",
   "execution_count": 31,
   "id": "6d0ad404-1cfd-4e61-a32b-baeb33586111",
   "metadata": {},
   "outputs": [],
   "source": [
    "response_text = f\"\"\"\n",
    "Question: {{dataset['validation']['question'][0]}}\n",
    "LLM:{response}\n",
    "\"\"\""
   ]
  },
  {
   "cell_type": "code",
   "execution_count": 32,
   "id": "c50fd0be-4f34-499e-a1db-a536970f053a",
   "metadata": {
    "scrolled": true
   },
   "outputs": [
    {
     "data": {
      "text/plain": [
       "\"\\nQuestion: {dataset['validation']['question'][0]}\\nLLM:<think>嗯，用户问的是1895年德国物理学家伦琴的发现对医学影像学的影响，分技术、学科和临床应用三个点。首先，我需要回忆一下伦琴的基本知识。记得他是一位年轻的科学家，可能对医学影像学不太熟悉，但后来因为他的研究而变得很有名。\\n\\n技术进步方面，我记得他可能改进了X光技术，比如X线的剂量控制，或者让X线更安全，这样医生能更放心使用。另外，他可能推动了影像学的临床应用，比如CT或MRI的前身。不过具体细节可能需要查证，比如是否提到X线的高分辨率或对比度提升，或者是否影响了诊断的准确性。比如，如果X线的对比度更好，可能让诊断更准确，减少误诊。\\n\\n接下来是学科建立。可能他推动了影像学的学科，比如影像学诊断学，或者建立了新的研究领域，比如神经影像学。比如，他可能研究神经影像学，或者影像学中的神经影像学，这可能属于神经影像学的前身。另外，可能影响了诊断学，比如影像学诊断学的形成，或者让影像学的诊断学更具体，比如影像学诊断学的各个门类，比如内镜学、CT学等。\\n\\n临床应用方面，可能他推动了影像学的应用，比如CT和MRI的前身。比如，早期的CT和MRI技术可能基于他的研究，或者后来的影像学技术更进一步。比如，现在使用的CT系统可能更精确，或者MRI的高分辨率MRI技术可能来自他的研究。此外，他可能促进了影像学的临床实践，比如让医生更放心使用X线，减少辐射暴露，从而改善诊断的安全性和准确性。\\n\\n需要确认这些点是否准确。比如，是否提到X线的剂量控制？或者是否影响了诊断的准确性？比如，如果X线的对比度更好，诊断更准确，减少误诊。另外，是否影响了诊断学的结构，比如影像学诊断学的形成，或者让影像学的诊断学更具体？\\n\\n可能还要考虑他的研究对医学影像学的推动作用，比如影像学诊断学的学科建设，或者影像学诊断学的各个门类，比如内镜学、CT学等，这些可能都是基于他的研究或进一步发展。\\n\\n总结下来，技术进步可能涉及X线的高分辨率和对比度，学科建立涉及神经影像学，临床应用涉及CT和MRI的前身，以及诊断学的形成。需要把这些点组织成连贯的思考过程，确保逻辑清晰，覆盖所有方面。\\n</think>\\n1895年，德国物理学家伦琴的发现对医学影像学的发展产生了重要影响。首先，他通过改进X线技术，使得X线能够更安全地用于临床诊断，减少了对患者辐射剂量的担忧，从而提高了诊断的准确性。其次，他推动了影像学诊断学的建立，为影像学的进一步发展奠定了基础。此外，他促进了影像学与临床医学的结合，使得影像学在诊断中得到了更广泛的应用，如CT和MRI等高级影像学技术的前身。这些影响使得影像学不仅在技术上更加精确，而且在临床应用上也更加广泛，为现代医学影像学的发展奠定了基础。\\n\""
      ]
     },
     "execution_count": 32,
     "metadata": {},
     "output_type": "execute_result"
    }
   ],
   "source": [
    "response_text"
   ]
  },
  {
   "cell_type": "code",
   "execution_count": 39,
   "id": "87fe10ec-a450-460f-a35f-f7df2c4f7d45",
   "metadata": {},
   "outputs": [],
   "source": [
    "import random\n",
    "test_text_list = []\n",
    "for i in random.sample(range(len(dataset['validation'])),3):\n",
    "    messages=[\n",
    "        {\"role\": \"system\", \"content\": f\"{PROMPT}\"},\n",
    "        {\"role\": \"user\", \"content\": f\"{dataset['validation']['question'][0]}\"}\n",
    "    ]\n",
    "    text=tokenizer.apply_chat_template(\n",
    "        messages,\n",
    "        tokenize=False,\n",
    "        add_generation_prompt=True\n",
    "    )\n",
    "    model_inputs = tokenizer([text], return_tensors=\"pt\").to('cuda:0')\n",
    "\n",
    "    generated_ids = model.generate(\n",
    "        model_inputs.input_ids,\n",
    "        max_new_tokens=MAX_LENGTH,\n",
    "    )\n",
    "    generated_ids = [\n",
    "        output_ids[len(input_ids):] for input_ids, output_ids in zip(model_inputs.input_ids, generated_ids)\n",
    "    ]\n",
    "    \n",
    "    response = tokenizer.batch_decode(generated_ids, skip_special_tokens=True)[0]\n",
    "\n",
    "    response_text = f\"\"\"Question: {dataset['validation']['question'][i]}\\nLLM:{response}\"\"\"\n",
    "\n",
    "    test_text_list.append(swanlab.Text(response_text))\n",
    "    "
   ]
  },
  {
   "cell_type": "code",
   "execution_count": 40,
   "id": "535a8394-b504-4fd7-b2e4-8f3bf24be890",
   "metadata": {
    "scrolled": true
   },
   "outputs": [
    {
     "data": {
      "text/plain": [
       "{'Prediction': ['Question: 医生，我最近查了一些资料，发现库欣综合征好像有几种不同的类型，能具体给我讲讲每种类型的临床表现和实验室检查的特点吗？\\nLLM:<think>嗯，用户问的是1895年德国物理学家伦琴的发现对医学影像学的具体影响，特别是技术进步、学科建立和临床应用三个层面。首先，我需要回忆一下伦琴的基本知识。记得他之前学过医学，可能对影像学有一定的背景。用户可能想知道这些影响的具体表现，比如技术上的具体进步，比如CT或MRI的出现，或者影像学技术的改进。\\n\\n首先，技术进步方面，可能包括CT和MRI的出现。比如，CT是计算机断层，MRI是磁共振成像，它们极大地提高了影像的清晰度和对比度，让医生可以看到更细节的病变。不过用户可能不太了解这些技术的具体细节，所以需要解释清楚。另外，可能还有其他技术，比如超声技术，或者更早的影像学设备，比如X光或CT，但用户的问题主要集中在技术上，所以重点放在这些技术。\\n\\n然后是学科建立。医学影像学需要将不同的技术结合起来，比如CT和MRI的结合，可能形成CT-MR技术。比如，CT-MR结合了计算机断层和磁共振，这应该是医学影像学领域的一个重要突破。此外，可能还有其他学科，比如放射学、内镜学等，这些学科后来也发展，但用户提到的三个层面可能覆盖了主要学科。\\n\\n接下来是临床应用。临床医生如何利用这些技术。比如，CT能帮助诊断肿瘤，MRI可以评估脑部病变，比如肿瘤的大小、形状，MRI能帮助医生理解病变的性质，比如恶性肿瘤是否侵犯周围组织。此外，可能还有CT在手术中的应用，比如评估肿瘤是否侵犯周围结构，MRI在诊断早期发现肿瘤，或者在CT上评估肿瘤的代谢情况。\\n\\n需要确认是否有其他技术，比如超声技术，或者是否还有其他影像学技术被提及。但根据答案，重点在技术进步、学科建立和临床应用，所以可能不需要扩展太多。另外，要确保回答结构清晰，分三个层面，每个层面详细说明影响的具体方面。\\n\\n可能需要检查是否有遗漏的点，比如是否提到技术的具体细节，比如超声的原理，或者是否提到MR技术。不过根据答案，可能不需要太深入，保持简洁。还要注意术语的准确性，比如MRI是磁共振成像，CT是计算机断层，MRI是磁共振成像，所以要正确使用缩写。\\n\\n总结下来，回答需要先总述技术进步，再分学科建立，最后讨论临床应用的具体例子。确保每个部分都覆盖到用户的问题，并且逻辑连贯，用词准确。\\n</think>\\n1895年，德国物理学家伦琴发现了一种新的影像学技术，称为CT-MR技术，它结合了计算机断层和磁共振技术，极大地提高了医学影像学的图像质量。这项技术的发展使得医学影像学能够更清晰地显示病变，对于疾病的早期诊断和治疗方案的制定都有很大帮助。此外，它也促进了医学影像学与其他学科的建立，如放射学、内镜学等，这些学科的发展也促进了医学影像学的进一步完善。临床应用方面，CT-MR技术的应用使得医生能够更准确地了解病变的性质，如肿瘤的大小、形状、部位等，这对于制定更有效的治疗方案非常重要。', 'Question: 医生，我最近戴隐形眼镜后眼睛总是感觉不舒服，听说可能是因为棘阿米巴角膜炎，这种病的常见原因是什么？为什么佩戴隐形眼镜的人更容易得这种病？\\nLLM:<think>嗯，用户问的是1895年德国物理学家伦琴的发现对医学影像学的影响，分技术、学科和临床应用三个方面。首先，我需要回忆一下伦琴的主要贡献。记得他发明了阴离子聚光灯，也就是阴极放电灯，这应该和医学影像学中的放射学有关。\\n\\n技术方面，阴离子聚光灯可能让放射线更加聚焦，这样在显像时，像X光一样清晰显示组织结构。比如，通过阴极和靶材的离子化，可能让放射线穿过组织，形成对比，这样在图像上就能更清晰地显示器官或结构。这可能影响了早期放射学的发展，让医学影像学从传统X光转向了更详细的成像技术。\\n\\n接下来是学科建立。可能涉及到放射学的形成，比如放射学作为独立学科，由伦琴和其他人如Friedrich Sanger、Gustav Friedrich等共同研究。这可能让医学影像学有了更专业的术语，比如“放射学”本身是这个学科的总称，而不仅仅是“放射线”。这可能促进了医学影像学的规范化和专业化。\\n\\n临床应用方面，比如治疗中的放射治疗，比如在放射性肺炎或放射性心脏病中使用放疗，或者在诊断中通过放射线的对比来判断组织病变的位置和大小。此外，可能影响了医学影像学的诊断方法，比如通过放射线的分布来判断肿瘤的位置，或者在手术中使用放射线引导，这样在手术前就能确认肿瘤的位置。\\n\\n不过，用户的问题可能需要更详细的分析，比如技术细节中的具体机制，比如阴极放电产生的离子和电子，如何在显像中产生对比，或者如何通过阴极和靶材的离子化过程来增强对比度。此外，可能还有其他影响，比如对放射学与其他学科（如放射病理学、放射肿瘤学）的影响，或者对临床诊断工具的影响，比如X光的分辨率是否因此改善？\\n\\n需要确认这些点是否准确。比如，是否确实将阴极放电作为成像技术，或者是否属于其他技术？可能需要明确区分。另外，学科建立是否涉及放射学的形成，或者是否属于放射学的另一个分支？比如，放射学本身是总称，而具体学科如放射学病理学、放射学肿瘤学等是否被合并或独立形成？\\n\\n可能用户的问题分为三个部分：技术、学科和临床应用。需要确保每个部分都有具体的例子和机制。例如，技术部分可以提到对比度的提升，学科部分提到学科的形成，临床应用包括治疗和诊断工具的改进。同时，是否还有其他影响，比如对X光技术的影响，比如更清晰的图像，或者对放射学在医学影像学中的地位？\\n\\n可能需要检查是否有其他因素，比如对放射学基础的建立，或者对放射学在诊断中的实际应用案例，比如放射治疗在癌症治疗中的使用情况。此外，是否还有其他技术进步，比如对放射线的聚焦度如何影响成像质量，或者是否影响了诊断时的影像分辨率？\\n\\n另外，用户可能想知道这些影响如何具体影响医学影像学的后续发展，比如对放射学的进一步研究，或者对其他技术如CT或MRI的影响。比如，CT中可能使用更先进的成像技术，或者MRI的成像方式可能基于放射学原理？\\n\\n总结下来，需要将这三个方面分别展开，确保每个部分都有足够的细节和逻辑，比如技术中的具体机制，学科中的学科名称，临床应用中的实际例子。同时，语言要简洁，结构清晰，符合用户的要求。\\n</think>\\n1895年德国物理学家伦琴的发现对医学影像学的影响主要体现在技术、学科和临床应用三个方面。技术上，他发明了阴离子聚光灯，使得放射线能够更集中地聚焦在目标上，从而提高了图像的对比度和清晰度。学科上，他创立了放射学，将放射线与放射病理学、放射肿瘤学等学科合并，形成了放射学作为独立学科。临床应用方面，他的发现促进了放射治疗技术的广泛应用，比如在放射性肺炎和放射性心脏病中的治疗，以及在诊断中通过放射线的对比来判断病变的大小和位置。这些技术进步极大地提高了医学影像学的诊断和治疗手段，使得医学影像学能够更详细地了解疾病。', 'Question: 医生，我了解到2008年WHO对急性髓系白血病（AML）的分类标准进行了更新，能否详细解释一下这个标准的制定背景、依据，以及它与FAB分型的主要区别？特别是MICM诊断模式的应用是如何提高AML的诊断精度和治疗效果的？\\nLLM:<think>嗯，用户问的是1895年伦琴发现的阴离子球形靶片对医学影像学的影响，特别是技术进步、学科建立和临床应用。首先，我需要回忆一下伦琴的发现和它在医学影像学中的应用。记得他可能和阴离子球形靶片有关，可能和X光技术有关。\\n\\n首先，技术进步方面，阴离子球形靶片应该能产生更高质量的X光图像，比如对比度高，辐射剂量低。这可能让医生能更清晰地看到内部结构，比如心脏、肌肉等。然后，可能还有其他技术进步，比如计算机X光系统，但用户的问题集中在靶片本身，所以可能不需要深入这些。\\n\\n接下来是学科建立。可能涉及到放射学的形成，因为X光技术需要辐射和离子流。此外，可能还有其他学科，比如放射治疗，但用户提到的学科是放射学，所以可能主要涉及X光技术本身。\\n\\n然后是临床应用。比如在诊断中，阴离子球形靶片可能帮助区分肿块和肿物，或者帮助确定肿瘤的位置。比如在手术中，可能用于定位或辅助诊断。此外，可能在医学影像学中用于诊断，比如肺结核的X光图像更清晰。\\n\\n不过，我需要确认是否有其他因素，比如是否影响了放射学的发展，或者是否与其他技术（如计算机X光）有交叉影响。可能需要说明技术进步如何影响这些学科的形成，比如X光技术本身需要辐射和离子，所以可能直接推动了放射学的发展。\\n\\n另外，用户的问题可能需要分点回答，技术进步、学科建立和临床应用。需要确保每个部分都有具体例子，比如阴离子靶片的具体特点，比如形状、材料、辐射特性，以及这些如何应用在影像诊断中。同时，要确保逻辑连贯，从技术到学科再到临床，每个部分都要覆盖到。\\n\\n可能还要注意术语的准确性，比如阴离子球形靶片是否确实能产生阴离子，或者是否是正离子？需要确认是否是阴离子，但根据答案，应该是阴离子。另外，是否提到X射线的产生机制，比如高能电子撞击靶片，产生正离子，从而产生阴离子。可能需要简要说明，但用户的问题可能不需要太详细。\\n\\n总结下来，思考过程需要先理清伦琴的发现如何具体影响X光技术，比如X射线的产生机制，从而推动X光技术的发展。然后分解成技术进步（靶片本身）、学科建立（X光技术本身）和临床应用（诊断辅助、手术辅助），每个部分都要有具体例子，比如靶片的结构、功能、应用领域等。\\n</think>\\n1895年德国物理学家伦琴发现的阴离子球形靶片对医学影像学的发展具有重要影响。首先，它能够产生阴离子，这使得X射线的产生更加安全，能够提供清晰的诊断图像。其次，阴离子球形靶片的形成和发展，促进了X射线技术的形成，为放射学提供了基础。此外，阴离子球形靶片在临床应用中也起到了辅助诊断的作用，例如在诊断中可以利用其来区分肿块和肿物，帮助提高诊断的准确性。这些技术进步极大地促进了医学影像学的发展，使得人们能够更清晰地看到内部组织的结构和功能。']}"
      ]
     },
     "execution_count": 40,
     "metadata": {},
     "output_type": "execute_result"
    }
   ],
   "source": [
    "swanlab.log({\"Prediction\": test_text_list})"
   ]
  },
  {
   "cell_type": "code",
   "execution_count": 41,
   "id": "eac8168f-1182-4f93-90e6-951b59e9c504",
   "metadata": {},
   "outputs": [
    {
     "name": "stdout",
     "output_type": "stream",
     "text": [
      "\u001b[1m\u001b[34mswanlab\u001b[0m\u001b[0m: 🏠 View project at \u001b[34m\u001b[4mhttps://swanlab.cn/@zhangdw156/transformers\u001b[0m\u001b[0m\n",
      "\u001b[1m\u001b[34mswanlab\u001b[0m\u001b[0m: 🚀 View run at \u001b[34m\u001b[4mhttps://swanlab.cn/@zhangdw156/transformers/runs/lyic3titezexqrdlvanps\u001b[0m\u001b[0m\n",
      "\u001b[1m\u001b[34mswanlab\u001b[0m\u001b[0m: Waiting for uploading complete\n",
      "                                                                                                    "
     ]
    }
   ],
   "source": [
    "swanlab.finish()"
   ]
  },
  {
   "cell_type": "code",
   "execution_count": null,
   "id": "39e746b2-5224-416a-b4fd-abb6d327cfb7",
   "metadata": {},
   "outputs": [],
   "source": []
  }
 ],
 "metadata": {
  "kernelspec": {
   "display_name": "transformers",
   "language": "python",
   "name": "transformers"
  },
  "language_info": {
   "codemirror_mode": {
    "name": "ipython",
    "version": 3
   },
   "file_extension": ".py",
   "mimetype": "text/x-python",
   "name": "python",
   "nbconvert_exporter": "python",
   "pygments_lexer": "ipython3",
   "version": "3.11.13"
  }
 },
 "nbformat": 4,
 "nbformat_minor": 5
}
