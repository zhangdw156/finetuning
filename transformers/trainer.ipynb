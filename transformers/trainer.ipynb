{
 "cells": [
  {
   "cell_type": "code",
   "execution_count": 1,
   "id": "ce122d1e-9e12-475e-bc39-2ea73710c9c6",
   "metadata": {},
   "outputs": [
    {
     "name": "stderr",
     "output_type": "stream",
     "text": [
      "/home/adminad/zhangdw/workspace/uv/transformers/lib/python3.11/site-packages/tqdm/auto.py:21: TqdmWarning: IProgress not found. Please update jupyter and ipywidgets. See https://ipywidgets.readthedocs.io/en/stable/user_install.html\n",
      "  from .autonotebook import tqdm as notebook_tqdm\n"
     ]
    }
   ],
   "source": [
    "from transformers import AutoModelForCausalLM,AutoTokenizer,TrainingArguments,trainer\n",
    "import torch"
   ]
  },
  {
   "cell_type": "code",
   "execution_count": 2,
   "id": "8af0315f-3263-454e-9ce3-7966169cdb07",
   "metadata": {},
   "outputs": [],
   "source": [
    "model_path='/data/download-model/Qwen3-0.6B'"
   ]
  },
  {
   "cell_type": "code",
   "execution_count": 3,
   "id": "78c13c41-d05b-4376-a8df-9c0fa9dc0cad",
   "metadata": {},
   "outputs": [],
   "source": [
    "tokenizer=AutoTokenizer.from_pretrained(model_path)\n",
    "model=AutoModelForCausalLM.from_pretrained(model_path)"
   ]
  },
  {
   "cell_type": "code",
   "execution_count": 4,
   "id": "5b21b6b7-3852-41e3-9b23-3fca5001a038",
   "metadata": {},
   "outputs": [],
   "source": [
    "sentence='1*1=1, 2*2=4, 3*3=9, 2*3*2*3='"
   ]
  },
  {
   "cell_type": "code",
   "execution_count": 6,
   "id": "8e1493d9-c4ed-48bc-a560-765e24eb583f",
   "metadata": {},
   "outputs": [],
   "source": [
    "inputs=tokenizer(sentence,return_tensors=\"pt\")"
   ]
  },
  {
   "cell_type": "code",
   "execution_count": 7,
   "id": "84aeb9d1-4b9f-4c6a-8579-3f1983a702d0",
   "metadata": {},
   "outputs": [
    {
     "data": {
      "text/plain": [
       "torch.Size([1, 29])"
      ]
     },
     "execution_count": 7,
     "metadata": {},
     "output_type": "execute_result"
    }
   ],
   "source": [
    "inputs.input_ids.shape"
   ]
  },
  {
   "cell_type": "code",
   "execution_count": 9,
   "id": "5261dd45-555d-416a-8f74-18b93ea40fe6",
   "metadata": {},
   "outputs": [
    {
     "data": {
      "text/plain": [
       "['1*1=1, 2*2=4, 3*3=9, 2*3*2*3=']"
      ]
     },
     "execution_count": 9,
     "metadata": {},
     "output_type": "execute_result"
    }
   ],
   "source": [
    "tokenizer.batch_decode(inputs.input_ids)"
   ]
  },
  {
   "cell_type": "code",
   "execution_count": 246,
   "id": "d6fc7d49-1082-4ff0-af66-8fa38986c762",
   "metadata": {},
   "outputs": [],
   "source": [
    "inputs['labels']=inputs['input_ids']"
   ]
  },
  {
   "cell_type": "code",
   "execution_count": 247,
   "id": "a1ca308c-a1a9-4591-a96d-6a1faf766fc8",
   "metadata": {
    "scrolled": true
   },
   "outputs": [],
   "source": [
    "outputs=model(**inputs)"
   ]
  },
  {
   "cell_type": "code",
   "execution_count": 248,
   "id": "e173ffa6-aba9-4b0e-b666-92e2c4755d7c",
   "metadata": {},
   "outputs": [
    {
     "data": {
      "text/plain": [
       "torch.Size([1, 29, 151936])"
      ]
     },
     "execution_count": 248,
     "metadata": {},
     "output_type": "execute_result"
    }
   ],
   "source": [
    "outputs.logits.shape"
   ]
  },
  {
   "cell_type": "code",
   "execution_count": 249,
   "id": "63e038f4-0157-4ec6-a6b5-f2daae9ff53d",
   "metadata": {},
   "outputs": [
    {
     "data": {
      "text/plain": [
       "CausalLMOutputWithPast(loss=tensor(1.1780, grad_fn=<NllLossBackward0>), logits=tensor([[[  3.6384,   2.8918,   2.5816,  ...,  -4.1986,  -4.2038,  -4.2262],\n",
       "         [  1.3595,  -4.9326,   1.0736,  ...,  -9.8884,  -9.9113, -10.0890],\n",
       "         [  8.2963,   5.3321,   5.6211,  ...,  -7.2254,  -7.1978,  -7.2971],\n",
       "         ...,\n",
       "         [ 14.3291,   8.1484,  14.0710,  ...,   3.7847,   3.8039,   3.9626],\n",
       "         [  7.5321,   7.5086,   7.4076,  ...,  -3.2272,  -3.1894,  -3.1203],\n",
       "         [  9.2310,   5.6040,   7.7539,  ...,   2.0228,   2.0447,   2.1962]]],\n",
       "       grad_fn=<UnsafeViewBackward0>), past_key_values=<transformers.cache_utils.DynamicCache object at 0x7fe9875eb910>, hidden_states=None, attentions=None)"
      ]
     },
     "execution_count": 249,
     "metadata": {},
     "output_type": "execute_result"
    }
   ],
   "source": [
    "outputs"
   ]
  },
  {
   "cell_type": "code",
   "execution_count": 255,
   "id": "650aaa47-79ab-4b65-90e2-1666db70c1b0",
   "metadata": {},
   "outputs": [
    {
     "data": {
      "text/plain": [
       "torch.Size([1, 29])"
      ]
     },
     "execution_count": 255,
     "metadata": {},
     "output_type": "execute_result"
    }
   ],
   "source": [
    "outputs.logits.argmax(dim=2).shape"
   ]
  },
  {
   "cell_type": "code",
   "execution_count": 251,
   "id": "1e375645-81ae-4d54-aa5c-0044b8621eb4",
   "metadata": {
    "scrolled": true
   },
   "outputs": [
    {
     "data": {
      "text/plain": [
       "['.101, 1*2=4, 3*3=9, 4*5=6=3=3']"
      ]
     },
     "execution_count": 251,
     "metadata": {},
     "output_type": "execute_result"
    }
   ],
   "source": [
    "tokenizer.batch_decode(outputs.logits.argmax(dim=2))"
   ]
  },
  {
   "cell_type": "code",
   "execution_count": 252,
   "id": "c8af287a-aa79-443a-be99-c000debe8cf2",
   "metadata": {
    "scrolled": true
   },
   "outputs": [
    {
     "data": {
      "text/plain": [
       "['1*1=1, 2*2=4, 3*3=9, 2*3*2*3=36, 36/36=1, 1+1=2, ']"
      ]
     },
     "execution_count": 252,
     "metadata": {},
     "output_type": "execute_result"
    }
   ],
   "source": [
    "tokenizer.batch_decode(model.generate(**inputs))"
   ]
  },
  {
   "cell_type": "code",
   "execution_count": 55,
   "id": "2a097492-7fb1-4f8e-b0ff-b3bb2e6e42b8",
   "metadata": {
    "scrolled": true
   },
   "outputs": [
    {
     "data": {
      "text/plain": [
       "'<|endoftext|>'"
      ]
     },
     "execution_count": 55,
     "metadata": {},
     "output_type": "execute_result"
    }
   ],
   "source": [
    "tokenizer.pad_token"
   ]
  },
  {
   "cell_type": "code",
   "execution_count": 122,
   "id": "ca1fd220-7789-49e2-adc4-d53e6d5eafe5",
   "metadata": {},
   "outputs": [
    {
     "name": "stdout",
     "output_type": "stream",
     "text": [
      "input_ids shape: torch.Size([1, 6])\n",
      "labels shape: torch.Size([1, 6])\n"
     ]
    }
   ],
   "source": [
    "# 输入提示文本\n",
    "prompt = \"<|endoftext|>Once upon a time \"\n",
    "target_text = \"<|endoftext|>Once upon a time ?\"\n",
    "\n",
    "# 编码输入和目标文本\n",
    "inputs = tokenizer(prompt, return_tensors=\"pt\")\n",
    "\n",
    "targets = tokenizer(target_text, return_tensors=\"pt\")\n",
    "\n",
    "# labels=torch.cat([torch.tensor([[-100]*5]),targets['input_ids']],dim=-1)\n",
    "\n",
    "inputs['labels']=targets['input_ids']\n",
    "\n",
    "# # 验证形状一致性\n",
    "print(f\"input_ids shape: {inputs.input_ids.shape}\")  \n",
    "print(f\"labels shape: {inputs.labels.shape}\")"
   ]
  },
  {
   "cell_type": "code",
   "execution_count": 123,
   "id": "5b16719c-b9e8-4616-b2af-8334dee2059a",
   "metadata": {
    "scrolled": true
   },
   "outputs": [
    {
     "data": {
      "text/plain": [
       "['<|endoftext|>Once upon a time  (also known as \"the story of the first time\") was a 2011 comedy']"
      ]
     },
     "execution_count": 123,
     "metadata": {},
     "output_type": "execute_result"
    }
   ],
   "source": [
    "tokenizer.batch_decode(model.generate(**inputs))"
   ]
  },
  {
   "cell_type": "code",
   "execution_count": 124,
   "id": "018d9ff5-92e1-4de0-bd8c-28554d233d77",
   "metadata": {},
   "outputs": [],
   "source": [
    "outputs=model(**inputs)"
   ]
  },
  {
   "cell_type": "code",
   "execution_count": 125,
   "id": "0dca09c9-de8f-47f4-92d4-48daf6946d7c",
   "metadata": {},
   "outputs": [
    {
     "data": {
      "text/plain": [
       "['QuestionOnce a time,1']"
      ]
     },
     "execution_count": 125,
     "metadata": {},
     "output_type": "execute_result"
    }
   ],
   "source": [
    "tokenizer.batch_decode(outputs.logits.argmax(dim=2))"
   ]
  },
  {
   "cell_type": "code",
   "execution_count": 126,
   "id": "d3963c30-8f5d-4aa8-9926-da424f8b12d0",
   "metadata": {},
   "outputs": [
    {
     "data": {
      "text/plain": [
       "tensor(6.5680, grad_fn=<NllLossBackward0>)"
      ]
     },
     "execution_count": 126,
     "metadata": {},
     "output_type": "execute_result"
    }
   ],
   "source": [
    "outputs.loss"
   ]
  },
  {
   "cell_type": "code",
   "execution_count": 127,
   "id": "e87fbde5-b390-4181-b96b-09f1e07ef314",
   "metadata": {},
   "outputs": [],
   "source": [
    "outputs.loss.backward()"
   ]
  },
  {
   "cell_type": "code",
   "execution_count": 109,
   "id": "076ef797-ddaf-4ef7-bfe6-ee15a10cb3db",
   "metadata": {
    "scrolled": true
   },
   "outputs": [
    {
     "data": {
      "text/plain": [
       "Qwen3ForCausalLM(\n",
       "  (model): Qwen3Model(\n",
       "    (embed_tokens): Embedding(151936, 1024)\n",
       "    (layers): ModuleList(\n",
       "      (0-27): 28 x Qwen3DecoderLayer(\n",
       "        (self_attn): Qwen3Attention(\n",
       "          (q_proj): Linear(in_features=1024, out_features=2048, bias=False)\n",
       "          (k_proj): Linear(in_features=1024, out_features=1024, bias=False)\n",
       "          (v_proj): Linear(in_features=1024, out_features=1024, bias=False)\n",
       "          (o_proj): Linear(in_features=2048, out_features=1024, bias=False)\n",
       "          (q_norm): Qwen3RMSNorm((128,), eps=1e-06)\n",
       "          (k_norm): Qwen3RMSNorm((128,), eps=1e-06)\n",
       "        )\n",
       "        (mlp): Qwen3MLP(\n",
       "          (gate_proj): Linear(in_features=1024, out_features=3072, bias=False)\n",
       "          (up_proj): Linear(in_features=1024, out_features=3072, bias=False)\n",
       "          (down_proj): Linear(in_features=3072, out_features=1024, bias=False)\n",
       "          (act_fn): SiLU()\n",
       "        )\n",
       "        (input_layernorm): Qwen3RMSNorm((1024,), eps=1e-06)\n",
       "        (post_attention_layernorm): Qwen3RMSNorm((1024,), eps=1e-06)\n",
       "      )\n",
       "    )\n",
       "    (norm): Qwen3RMSNorm((1024,), eps=1e-06)\n",
       "    (rotary_emb): Qwen3RotaryEmbedding()\n",
       "  )\n",
       "  (lm_head): Linear(in_features=1024, out_features=151936, bias=False)\n",
       ")"
      ]
     },
     "execution_count": 109,
     "metadata": {},
     "output_type": "execute_result"
    }
   ],
   "source": [
    "model.train()"
   ]
  },
  {
   "cell_type": "code",
   "execution_count": null,
   "id": "24b3c527-b502-4bb2-9ddf-15efec63282f",
   "metadata": {},
   "outputs": [],
   "source": []
  }
 ],
 "metadata": {
  "kernelspec": {
   "display_name": "transformers",
   "language": "python",
   "name": "transformers"
  },
  "language_info": {
   "codemirror_mode": {
    "name": "ipython",
    "version": 3
   },
   "file_extension": ".py",
   "mimetype": "text/x-python",
   "name": "python",
   "nbconvert_exporter": "python",
   "pygments_lexer": "ipython3",
   "version": "3.11.13"
  }
 },
 "nbformat": 4,
 "nbformat_minor": 5
}
